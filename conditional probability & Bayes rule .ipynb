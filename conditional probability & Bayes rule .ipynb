{
 "cells": [
  {
   "cell_type": "markdown",
   "id": "veterinary-evening",
   "metadata": {},
   "source": [
    "## a reference to conditional probability and bayes rule based on :\n",
    "\n",
    " - udacity solution of conditional probabilty exercise. \n",
    " - instructor of advanced Data analysis."
   ]
  },
  {
   "cell_type": "code",
   "execution_count": 1,
   "id": "lesbian-copying",
   "metadata": {},
   "outputs": [],
   "source": [
    "# libraries\n",
    "import pandas as pd\n",
    "import numpy as np\n",
    "import random\n",
    "import matplotlib.pyplot as plt\n",
    "%matplotlib inline"
   ]
  },
  {
   "cell_type": "code",
   "execution_count": 2,
   "id": "consecutive-senator",
   "metadata": {},
   "outputs": [],
   "source": [
    "# dataset\n",
    "df = pd.read_csv('toy_dataset.csv')"
   ]
  },
  {
   "cell_type": "code",
   "execution_count": 3,
   "id": "bottom-diving",
   "metadata": {},
   "outputs": [
    {
     "data": {
      "text/html": [
       "<div>\n",
       "<style scoped>\n",
       "    .dataframe tbody tr th:only-of-type {\n",
       "        vertical-align: middle;\n",
       "    }\n",
       "\n",
       "    .dataframe tbody tr th {\n",
       "        vertical-align: top;\n",
       "    }\n",
       "\n",
       "    .dataframe thead th {\n",
       "        text-align: right;\n",
       "    }\n",
       "</style>\n",
       "<table border=\"1\" class=\"dataframe\">\n",
       "  <thead>\n",
       "    <tr style=\"text-align: right;\">\n",
       "      <th></th>\n",
       "      <th>Number</th>\n",
       "      <th>City</th>\n",
       "      <th>Gender</th>\n",
       "      <th>Age</th>\n",
       "      <th>Income</th>\n",
       "      <th>Illness</th>\n",
       "    </tr>\n",
       "  </thead>\n",
       "  <tbody>\n",
       "    <tr>\n",
       "      <th>0</th>\n",
       "      <td>1</td>\n",
       "      <td>Dallas</td>\n",
       "      <td>Male</td>\n",
       "      <td>41</td>\n",
       "      <td>40367.0</td>\n",
       "      <td>No</td>\n",
       "    </tr>\n",
       "    <tr>\n",
       "      <th>1</th>\n",
       "      <td>2</td>\n",
       "      <td>Dallas</td>\n",
       "      <td>Male</td>\n",
       "      <td>54</td>\n",
       "      <td>45084.0</td>\n",
       "      <td>No</td>\n",
       "    </tr>\n",
       "    <tr>\n",
       "      <th>2</th>\n",
       "      <td>3</td>\n",
       "      <td>Dallas</td>\n",
       "      <td>Male</td>\n",
       "      <td>42</td>\n",
       "      <td>52483.0</td>\n",
       "      <td>No</td>\n",
       "    </tr>\n",
       "    <tr>\n",
       "      <th>3</th>\n",
       "      <td>4</td>\n",
       "      <td>Dallas</td>\n",
       "      <td>Male</td>\n",
       "      <td>40</td>\n",
       "      <td>40941.0</td>\n",
       "      <td>No</td>\n",
       "    </tr>\n",
       "    <tr>\n",
       "      <th>4</th>\n",
       "      <td>5</td>\n",
       "      <td>Dallas</td>\n",
       "      <td>Male</td>\n",
       "      <td>46</td>\n",
       "      <td>50289.0</td>\n",
       "      <td>No</td>\n",
       "    </tr>\n",
       "  </tbody>\n",
       "</table>\n",
       "</div>"
      ],
      "text/plain": [
       "   Number    City Gender  Age   Income Illness\n",
       "0       1  Dallas   Male   41  40367.0      No\n",
       "1       2  Dallas   Male   54  45084.0      No\n",
       "2       3  Dallas   Male   42  52483.0      No\n",
       "3       4  Dallas   Male   40  40941.0      No\n",
       "4       5  Dallas   Male   46  50289.0      No"
      ]
     },
     "execution_count": 3,
     "metadata": {},
     "output_type": "execute_result"
    }
   ],
   "source": [
    "df.head()"
   ]
  },
  {
   "cell_type": "code",
   "execution_count": 4,
   "id": "tired-memory",
   "metadata": {},
   "outputs": [
    {
     "data": {
      "text/plain": [
       "(150000, 6)"
      ]
     },
     "execution_count": 4,
     "metadata": {},
     "output_type": "execute_result"
    }
   ],
   "source": [
    "df.shape"
   ]
  },
  {
   "cell_type": "code",
   "execution_count": 5,
   "id": "surgical-bulgaria",
   "metadata": {},
   "outputs": [
    {
     "data": {
      "text/plain": [
       "Number       int64\n",
       "City        object\n",
       "Gender      object\n",
       "Age          int64\n",
       "Income     float64\n",
       "Illness     object\n",
       "dtype: object"
      ]
     },
     "execution_count": 5,
     "metadata": {},
     "output_type": "execute_result"
    }
   ],
   "source": [
    "df.dtypes"
   ]
  },
  {
   "cell_type": "code",
   "execution_count": 6,
   "id": "toxic-advancement",
   "metadata": {},
   "outputs": [
    {
     "data": {
      "text/plain": [
       "23651.25"
      ]
     },
     "execution_count": 6,
     "metadata": {},
     "output_type": "execute_result"
    }
   ],
   "source": [
    "# IQR\n",
    "Q1=np.percentile(df.Income,[25])[0]\n",
    "Q3=np.percentile(df.Income,[75])[0]\n",
    "IRQ=Q3-Q1\n",
    "IRQ"
   ]
  },
  {
   "cell_type": "markdown",
   "id": "opposed-welsh",
   "metadata": {},
   "source": [
    "## Probability"
   ]
  },
  {
   "cell_type": "markdown",
   "id": "requested-alaska",
   "metadata": {},
   "source": [
    "a. The proportion of persons that are ill,  and the proportion of persons that are not ill."
   ]
  },
  {
   "cell_type": "code",
   "execution_count": 7,
   "id": "looking-brazilian",
   "metadata": {},
   "outputs": [
    {
     "data": {
      "text/plain": [
       "0.08092666666666666"
      ]
     },
     "execution_count": 7,
     "metadata": {},
     "output_type": "execute_result"
    }
   ],
   "source": [
    "p_i = df[df.Illness == 'Yes'].shape[0] / df.shape[0]\n",
    "p_i"
   ]
  },
  {
   "cell_type": "code",
   "execution_count": 8,
   "id": "stretch-region",
   "metadata": {},
   "outputs": [
    {
     "data": {
      "text/plain": [
       "0.08092666666666666"
      ]
     },
     "execution_count": 8,
     "metadata": {},
     "output_type": "execute_result"
    }
   ],
   "source": [
    "(df.Illness == 'Yes').mean()"
   ]
  },
  {
   "cell_type": "code",
   "execution_count": 9,
   "id": "vocal-series",
   "metadata": {},
   "outputs": [
    {
     "data": {
      "text/plain": [
       "0.9190733333333333"
      ]
     },
     "execution_count": 9,
     "metadata": {},
     "output_type": "execute_result"
    }
   ],
   "source": [
    "(df.Illness == 'No').mean()"
   ]
  },
  {
   "cell_type": "code",
   "execution_count": 10,
   "id": "decent-sauce",
   "metadata": {},
   "outputs": [
    {
     "data": {
      "text/plain": [
       "0.9190733333333333"
      ]
     },
     "execution_count": 10,
     "metadata": {},
     "output_type": "execute_result"
    }
   ],
   "source": [
    "1 - p_i"
   ]
  },
  {
   "cell_type": "code",
   "execution_count": null,
   "id": "bored-handbook",
   "metadata": {},
   "outputs": [],
   "source": []
  },
  {
   "cell_type": "code",
   "execution_count": 11,
   "id": "south-composite",
   "metadata": {},
   "outputs": [
    {
     "data": {
      "text/plain": [
       "No     137861\n",
       "Yes     12139\n",
       "Name: Illness, dtype: int64"
      ]
     },
     "execution_count": 11,
     "metadata": {},
     "output_type": "execute_result"
    }
   ],
   "source": [
    "df.Illness.value_counts()"
   ]
  },
  {
   "cell_type": "markdown",
   "id": "racial-smooth",
   "metadata": {},
   "source": [
    "if convert to bool with out replace values to zero and one all will turn to True"
   ]
  },
  {
   "cell_type": "code",
   "execution_count": 12,
   "id": "corresponding-sheep",
   "metadata": {},
   "outputs": [],
   "source": [
    "# like this \n",
    "x = df.Illness.astype('bool')"
   ]
  },
  {
   "cell_type": "code",
   "execution_count": 13,
   "id": "mechanical-curve",
   "metadata": {},
   "outputs": [
    {
     "data": {
      "text/plain": [
       "1.0"
      ]
     },
     "execution_count": 13,
     "metadata": {},
     "output_type": "execute_result"
    }
   ],
   "source": [
    "(x == True).mean()"
   ]
  },
  {
   "cell_type": "markdown",
   "id": "piano-camping",
   "metadata": {},
   "source": [
    "### another solution with boolean"
   ]
  },
  {
   "cell_type": "code",
   "execution_count": 14,
   "id": "national-directory",
   "metadata": {},
   "outputs": [
    {
     "data": {
      "text/plain": [
       "0.08092666666666666"
      ]
     },
     "execution_count": 14,
     "metadata": {},
     "output_type": "execute_result"
    }
   ],
   "source": [
    "# another solution\n",
    "# must to bool to another solution \n",
    "values = {'No':0,'Yes':1}\n",
    "df['IllBool'] = df.Illness.replace(values)#,inplace=True)\n",
    "\n",
    "df.IllBool = df.IllBool.astype('bool')\n",
    "df.IllBool.mean()"
   ]
  },
  {
   "cell_type": "code",
   "execution_count": 15,
   "id": "selected-camcorder",
   "metadata": {},
   "outputs": [
    {
     "data": {
      "text/plain": [
       "0.9190733333333333"
      ]
     },
     "execution_count": 15,
     "metadata": {},
     "output_type": "execute_result"
    }
   ],
   "source": [
    "1 - df.IllBool.mean()"
   ]
  },
  {
   "cell_type": "code",
   "execution_count": 16,
   "id": "steady-kitchen",
   "metadata": {},
   "outputs": [
    {
     "data": {
      "text/plain": [
       "No     137861\n",
       "Yes     12139\n",
       "Name: Illness, dtype: int64"
      ]
     },
     "execution_count": 16,
     "metadata": {},
     "output_type": "execute_result"
    }
   ],
   "source": [
    "df.Illness.value_counts()"
   ]
  },
  {
   "cell_type": "code",
   "execution_count": null,
   "id": "romantic-thunder",
   "metadata": {},
   "outputs": [],
   "source": []
  },
  {
   "cell_type": "markdown",
   "id": "sporting-niger",
   "metadata": {},
   "source": [
    "b. The proportion of persons that are `male`."
   ]
  },
  {
   "cell_type": "code",
   "execution_count": 17,
   "id": "fantastic-lesson",
   "metadata": {},
   "outputs": [
    {
     "data": {
      "text/plain": [
       "0.5586666666666666"
      ]
     },
     "execution_count": 17,
     "metadata": {},
     "output_type": "execute_result"
    }
   ],
   "source": [
    "df.query(\"Gender == 'Male'\").shape[0]/df.shape[0]"
   ]
  },
  {
   "cell_type": "code",
   "execution_count": 18,
   "id": "devoted-sweet",
   "metadata": {},
   "outputs": [
    {
     "data": {
      "text/plain": [
       "Number     75049.466551\n",
       "Age           44.912625\n",
       "Income     95670.247196\n",
       "IllBool        0.081241\n",
       "dtype: float64"
      ]
     },
     "execution_count": 18,
     "metadata": {},
     "output_type": "execute_result"
    }
   ],
   "source": [
    "# bad use of query\n",
    "df.query(\"Gender == 'Male'\").mean()"
   ]
  },
  {
   "cell_type": "markdown",
   "id": "incoming-reflection",
   "metadata": {},
   "source": [
    "d. The proportion of persons that have `income` from `50000` to `100000`"
   ]
  },
  {
   "cell_type": "code",
   "execution_count": 19,
   "id": "prompt-light",
   "metadata": {},
   "outputs": [
    {
     "data": {
      "text/plain": [
       "0.5659533333333333"
      ]
     },
     "execution_count": 19,
     "metadata": {},
     "output_type": "execute_result"
    }
   ],
   "source": [
    "df.query(\"Income > 50000 and Income <= 100000  \").shape[0]/df.shape[0]"
   ]
  },
  {
   "cell_type": "markdown",
   "id": "accepted-athens",
   "metadata": {},
   "source": [
    "## Conditional Probability"
   ]
  },
  {
   "cell_type": "markdown",
   "id": "endless-appointment",
   "metadata": {},
   "source": [
    "a. Given that a person was in `New York City` , what is the probability that he is `ill`?"
   ]
  },
  {
   "cell_type": "code",
   "execution_count": 20,
   "id": "adjusted-pound",
   "metadata": {},
   "outputs": [
    {
     "data": {
      "text/html": [
       "<div>\n",
       "<style scoped>\n",
       "    .dataframe tbody tr th:only-of-type {\n",
       "        vertical-align: middle;\n",
       "    }\n",
       "\n",
       "    .dataframe tbody tr th {\n",
       "        vertical-align: top;\n",
       "    }\n",
       "\n",
       "    .dataframe thead th {\n",
       "        text-align: right;\n",
       "    }\n",
       "</style>\n",
       "<table border=\"1\" class=\"dataframe\">\n",
       "  <thead>\n",
       "    <tr style=\"text-align: right;\">\n",
       "      <th></th>\n",
       "      <th>Number</th>\n",
       "      <th>City</th>\n",
       "      <th>Gender</th>\n",
       "      <th>Age</th>\n",
       "      <th>Income</th>\n",
       "      <th>Illness</th>\n",
       "      <th>IllBool</th>\n",
       "    </tr>\n",
       "  </thead>\n",
       "  <tbody>\n",
       "    <tr>\n",
       "      <th>0</th>\n",
       "      <td>1</td>\n",
       "      <td>Dallas</td>\n",
       "      <td>Male</td>\n",
       "      <td>41</td>\n",
       "      <td>40367.0</td>\n",
       "      <td>No</td>\n",
       "      <td>False</td>\n",
       "    </tr>\n",
       "    <tr>\n",
       "      <th>1</th>\n",
       "      <td>2</td>\n",
       "      <td>Dallas</td>\n",
       "      <td>Male</td>\n",
       "      <td>54</td>\n",
       "      <td>45084.0</td>\n",
       "      <td>No</td>\n",
       "      <td>False</td>\n",
       "    </tr>\n",
       "    <tr>\n",
       "      <th>2</th>\n",
       "      <td>3</td>\n",
       "      <td>Dallas</td>\n",
       "      <td>Male</td>\n",
       "      <td>42</td>\n",
       "      <td>52483.0</td>\n",
       "      <td>No</td>\n",
       "      <td>False</td>\n",
       "    </tr>\n",
       "    <tr>\n",
       "      <th>3</th>\n",
       "      <td>4</td>\n",
       "      <td>Dallas</td>\n",
       "      <td>Male</td>\n",
       "      <td>40</td>\n",
       "      <td>40941.0</td>\n",
       "      <td>No</td>\n",
       "      <td>False</td>\n",
       "    </tr>\n",
       "    <tr>\n",
       "      <th>4</th>\n",
       "      <td>5</td>\n",
       "      <td>Dallas</td>\n",
       "      <td>Male</td>\n",
       "      <td>46</td>\n",
       "      <td>50289.0</td>\n",
       "      <td>No</td>\n",
       "      <td>False</td>\n",
       "    </tr>\n",
       "  </tbody>\n",
       "</table>\n",
       "</div>"
      ],
      "text/plain": [
       "   Number    City Gender  Age   Income Illness  IllBool\n",
       "0       1  Dallas   Male   41  40367.0      No    False\n",
       "1       2  Dallas   Male   54  45084.0      No    False\n",
       "2       3  Dallas   Male   42  52483.0      No    False\n",
       "3       4  Dallas   Male   40  40941.0      No    False\n",
       "4       5  Dallas   Male   46  50289.0      No    False"
      ]
     },
     "execution_count": 20,
     "metadata": {},
     "output_type": "execute_result"
    }
   ],
   "source": [
    "df.head()"
   ]
  },
  {
   "cell_type": "code",
   "execution_count": 21,
   "id": "controlled-panama",
   "metadata": {},
   "outputs": [
    {
     "data": {
      "text/plain": [
       "0.07992923450016896"
      ]
     },
     "execution_count": 21,
     "metadata": {},
     "output_type": "execute_result"
    }
   ],
   "source": [
    "(df.query('City == \"New York City\"')['IllBool']).mean()"
   ]
  },
  {
   "cell_type": "code",
   "execution_count": 22,
   "id": "under-column",
   "metadata": {},
   "outputs": [
    {
     "data": {
      "text/plain": [
       "0.07992923450016896"
      ]
     },
     "execution_count": 22,
     "metadata": {},
     "output_type": "execute_result"
    }
   ],
   "source": [
    "# another solution\n",
    "df_NYC = df[df.City == 'New York City'] #Selecting New York City from Main df\n",
    "df_NYC[df_NYC.Illness == 'Yes'].shape[0]/df_NYC.shape[0]"
   ]
  },
  {
   "cell_type": "code",
   "execution_count": 23,
   "id": "grand-freeware",
   "metadata": {},
   "outputs": [
    {
     "data": {
      "text/plain": [
       "0.07992923450016896"
      ]
     },
     "execution_count": 23,
     "metadata": {},
     "output_type": "execute_result"
    }
   ],
   "source": [
    "# another solution\n",
    "(df.query('City == \"New York City\"')['Illness'] == 'Yes').mean()"
   ]
  },
  {
   "cell_type": "code",
   "execution_count": 24,
   "id": "agricultural-corruption",
   "metadata": {},
   "outputs": [
    {
     "data": {
      "text/plain": [
       "0.3312463959139962"
      ]
     },
     "execution_count": 24,
     "metadata": {},
     "output_type": "execute_result"
    }
   ],
   "source": [
    "(df.query(\"Illness == 'Yes'\")['City']== 'New York City').mean()"
   ]
  },
  {
   "cell_type": "markdown",
   "id": "comparative-passage",
   "metadata": {},
   "source": [
    "c. Given that a person is `Female` , what is the probability that she is `ill`?"
   ]
  },
  {
   "cell_type": "code",
   "execution_count": 25,
   "id": "perfect-meaning",
   "metadata": {},
   "outputs": [
    {
     "data": {
      "text/plain": [
       "0.08052870090634441"
      ]
     },
     "execution_count": 25,
     "metadata": {},
     "output_type": "execute_result"
    }
   ],
   "source": [
    "(df.query('Gender == \"Female\"')['Illness'] == 'Yes').mean()"
   ]
  },
  {
   "cell_type": "code",
   "execution_count": 26,
   "id": "dynamic-chicken",
   "metadata": {},
   "outputs": [
    {
     "data": {
      "text/plain": [
       "0.08052870090634441"
      ]
     },
     "execution_count": 26,
     "metadata": {},
     "output_type": "execute_result"
    }
   ],
   "source": [
    "df_female = df[df.Gender == 'Female']\n",
    "df_female[df_female.Illness == 'Yes'].shape[0]/df_female.shape[0]"
   ]
  },
  {
   "cell_type": "markdown",
   "id": "radio-seminar",
   "metadata": {},
   "source": [
    "d. Given that a person is `male and from Dallas`, what is the probability that he is `ill`"
   ]
  },
  {
   "cell_type": "code",
   "execution_count": 27,
   "id": "british-blink",
   "metadata": {},
   "outputs": [
    {
     "data": {
      "text/plain": [
       "0.08225777131430649"
      ]
     },
     "execution_count": 27,
     "metadata": {},
     "output_type": "execute_result"
    }
   ],
   "source": [
    "df2 = df[(df['Gender'] == 'Male') & (df['City'] == 'Dallas')]\n",
    "df2[df2['Illness'] == 'Yes'].shape[0] / df2.shape[0]"
   ]
  },
  {
   "cell_type": "code",
   "execution_count": 28,
   "id": "manufactured-photograph",
   "metadata": {},
   "outputs": [
    {
     "data": {
      "text/plain": [
       "0.08225777131430649"
      ]
     },
     "execution_count": 28,
     "metadata": {},
     "output_type": "execute_result"
    }
   ],
   "source": [
    "(df.query('Gender == \"Male\" and City ==\"Dallas\"')['Illness'] == 'Yes').mean()"
   ]
  },
  {
   "cell_type": "markdown",
   "id": "authentic-blair",
   "metadata": {},
   "source": [
    "## bayes"
   ]
  },
  {
   "cell_type": "markdown",
   "id": "accepting-style",
   "metadata": {},
   "source": [
    "a. What is the probability that a person is from `Boston` given this person is `ill`"
   ]
  },
  {
   "cell_type": "code",
   "execution_count": 29,
   "id": "applied-rouge",
   "metadata": {},
   "outputs": [
    {
     "data": {
      "text/plain": [
       "0.056512068539418404"
      ]
     },
     "execution_count": 29,
     "metadata": {},
     "output_type": "execute_result"
    }
   ],
   "source": [
    "(df.query('Illness == \"Yes\"')['City'] == 'Boston').mean()"
   ]
  },
  {
   "cell_type": "code",
   "execution_count": 30,
   "id": "formal-pavilion",
   "metadata": {},
   "outputs": [
    {
     "data": {
      "text/plain": [
       "0.056512068539418404"
      ]
     },
     "execution_count": 30,
     "metadata": {},
     "output_type": "execute_result"
    }
   ],
   "source": [
    "df_b = df[df['City'] == 'Boston']\n",
    "p_B = df_b.shape[0] / df.shape[0]\n",
    "p_i_B = df_b[df_b['Illness'] == 'Yes'].shape[0]/df_b.shape[0]\n",
    "p_B_i = (p_i_B * p_B) / p_i\n",
    "p_B_i"
   ]
  },
  {
   "cell_type": "code",
   "execution_count": 31,
   "id": "sublime-glucose",
   "metadata": {},
   "outputs": [
    {
     "data": {
      "text/plain": [
       "0.056512068539418404"
      ]
     },
     "execution_count": 31,
     "metadata": {},
     "output_type": "execute_result"
    }
   ],
   "source": [
    "df_ill = df[df.Illness == \"Yes\"]\n",
    "df_ill[df_ill.City == \"Boston\"].shape[0]/df_ill.shape[0] # normalize"
   ]
  },
  {
   "cell_type": "code",
   "execution_count": null,
   "id": "robust-resolution",
   "metadata": {},
   "outputs": [],
   "source": []
  }
 ],
 "metadata": {
  "kernelspec": {
   "display_name": "Python 3",
   "language": "python",
   "name": "python3"
  },
  "language_info": {
   "codemirror_mode": {
    "name": "ipython",
    "version": 3
   },
   "file_extension": ".py",
   "mimetype": "text/x-python",
   "name": "python",
   "nbconvert_exporter": "python",
   "pygments_lexer": "ipython3",
   "version": "3.8.5"
  }
 },
 "nbformat": 4,
 "nbformat_minor": 5
}
